{
  "nbformat": 4,
  "nbformat_minor": 0,
  "metadata": {
    "colab": {
      "name": "5-svm.ipynb",
      "provenance": [],
      "collapsed_sections": [],
      "toc_visible": true,
      "authorship_tag": "ABX9TyNNXZ0YRxAVvEatBY7C3Jlb"
    },
    "kernelspec": {
      "name": "python3",
      "display_name": "Python 3"
    },
    "language_info": {
      "name": "python"
    }
  },
  "cells": [
    {
      "cell_type": "markdown",
      "metadata": {
        "id": "Adnxs5kDc2pd"
      },
      "source": [
        "# 5. サポートベクターマシン\n",
        "\n",
        "本書は、機械学習レポートの、サポートベクターマシンについてです。\n"
      ]
    },
    {
      "cell_type": "markdown",
      "metadata": {
        "id": "9_jMHYWudCh3"
      },
      "source": [
        "## 1.1. 要点まとめ\n",
        "\n",
        "サポートベクターマシン(以降、 SVM と記載)について、\n",
        "「機械学習 講義資料」の、 Appendix 資料の内容を纏めた。\n",
        "\n",
        "Appendix 資料では、 SVM を以下に分類している。\n",
        "\n",
        "- ハードマージン<br>\n",
        "線形分離可能で、分類境界が明確に分類できるもの。\n",
        "\n",
        "- ソフトマージン<br>\n",
        "線形分離不可能だが、線形サポートベクトルで誤差を許容する分類。\n",
        "\n",
        "- カーネルトリック<br>\n",
        "線形分離不可能で、カーネル関数を使って非線形に分類。\n",
        "\n",
        "ハードマージンとソフトマージンの概要の後、 SVM のしくみが整理し、<br>\n",
        "最後にカーネルトリックについて、説明する構成。\n"
      ]
    },
    {
      "cell_type": "markdown",
      "metadata": {
        "id": "ccV4wlYSi0y7"
      },
      "source": [
        "### 2クラス分類\n",
        "\n",
        "SVM は、特徴ベクトル $ \\textbf{x} $ を、$ y = -1, 1 $ の 2 値に分類する、2クラス分類を対象とする、\n",
        "\n",
        "SVM で分類することを、 SV 分類と呼ぶ。\n"
      ]
    },
    {
      "cell_type": "markdown",
      "metadata": {
        "id": "yekv4iGsi4VW"
      },
      "source": [
        "### 決定関数と分類境界\n",
        "\n",
        "決定関数は、以下の通り。\n",
        "\n",
        "$$\n",
        "f( \\textbf{x} ) = \\textbf{w}^T \\textbf{x} + b\n",
        "$$\n",
        "\n",
        "2つのクラスに分類するため、決定関数の符号によって 2 クラスに分類する。\n",
        "\n",
        "$$\n",
        "\\begin{equation}\n",
        "y = sgn f( \\textbf{x} ) =\n",
        "\\begin{cases}\n",
        "+1 & (f( \\textbf{x} ) \\gt 0) \\\\\n",
        "-1 & (f( \\textbf{x} ) \\lt 0) \\\\\n",
        "\\end{cases}\n",
        "\\end{equation}\n",
        "$$\n",
        "\n",
        "また、特徴ベクトルが表す平面と、決定関数の表す平面との交線を分類境界という。\n"
      ]
    },
    {
      "cell_type": "markdown",
      "metadata": {
        "id": "YZVKIlRzi7TC"
      },
      "source": [
        "### 線形サポートベクトル分類(ハードマージン)\n",
        "\n",
        "SVM の用語として以下の確認。\n",
        "\n",
        "- 訓練データ<br>\n",
        "特徴ベクトルとラベルのセット $ (x_i, y_i) ( i = 1, 2, \\cdots, n ) $\n",
        "\n",
        "- マージン<br>\n",
        "分類境界を挟んで 2 のクラスがどれくらい離れているのかの指標。\n",
        "\n",
        "- マージン最大化<br>\n",
        "SVM では、できるだけ大きなマージンを持つ分類境界を探す考え方。\n",
        "\n",
        "- ハードマージン<br>\n",
        "分類境界で分類できること(分類可能性)を仮定した SV 分類のこと。\n",
        "\n",
        "- サポートベクトル<br>\n",
        "分類境界を決める、分類境界に最も近いデータ。\n"
      ]
    },
    {
      "cell_type": "markdown",
      "metadata": {
        "id": "GQjj766slz7c"
      },
      "source": [
        "#### SVM の目的関数\n",
        "\n",
        "マージンを最大化するため、分類境界から近いデータ $ x_i $ との距離から、目的関数は以下となる。\n",
        "\n",
        "$$\n",
        "\\max_{\\textbf{w}, b}\n",
        "\\begin{bmatrix}\n",
        "\\min_i\n",
        "\\frac{\n",
        "  y_i \\begin{bmatrix}\n",
        "    \\textbf{w}^T \\textbf{x}_i + b\n",
        "  \\end{bmatrix}\n",
        "}\n",
        "{ \\Vert \\textbf{w} \\Vert }\n",
        "\\end{bmatrix}\n",
        "$$\n",
        "\n",
        "$\n",
        "\\min_i\n",
        "y_i \\begin{bmatrix}\n",
        "  \\textbf{w}^T \\textbf{x}_i + b\n",
        "\\end{bmatrix}\n",
        "= M( \\textbf{w}, b)\n",
        "$\n",
        "として、\n",
        "\n",
        "$$\n",
        "=\n",
        "\\max_{\\textbf{w}, b}\n",
        "\\frac{ M( \\textbf{w}, b) }\n",
        "{ \\Vert \\textbf{w} \\Vert }\n",
        "$$\n"
      ]
    },
    {
      "cell_type": "markdown",
      "metadata": {
        "id": "aDMJwi4llujG"
      },
      "source": [
        "#### SVM の制約条件\n",
        "\n",
        "$$\n",
        "\\min_i\n",
        "y_i \\begin{bmatrix}\n",
        "  \\textbf{w}^T \\textbf{x}_i + b\n",
        "\\end{bmatrix}\n",
        "= M( \\textbf{w}, b)\n",
        "$$\n",
        "\n",
        "より、\n",
        "全ての $i$ に対して、\n",
        "\n",
        "$$\n",
        "y_i \\begin{bmatrix}\n",
        "  \\textbf{w}^T \\textbf{x}_i + b\n",
        "\\end{bmatrix}\n",
        "\\geqq M( \\textbf{w}, b)\n",
        "$$\n"
      ]
    },
    {
      "cell_type": "markdown",
      "metadata": {
        "id": "DxOlFLhIl2yF"
      },
      "source": [
        "#### 簡素な表式\n",
        "\n",
        "扱いやすい形に変形すると、\n",
        "\n",
        "$$\n",
        "\\min_{\\textbf{w}, b} \\frac{1}{2}, \\\\\n",
        "$$\n",
        "\n",
        "ただし、\n",
        "全ての $i$ に対して、\n",
        "\n",
        "$$\n",
        "y_i \\begin{bmatrix}\n",
        "  \\textbf{w}^T \\textbf{x}_i + b\n",
        "\\end{bmatrix}\n",
        "\\geqq 1\n",
        "$$\n"
      ]
    },
    {
      "cell_type": "markdown",
      "metadata": {
        "id": "ux9Fdtfhi93a"
      },
      "source": [
        "### 線形サポートベクトル分類(ソフトマージン)\n",
        "\n",
        "分類誤りを許すように、データに対する誤差を表す、スラック変数 $ \\xi $ を導入する。制約条件は以下になる。\n",
        "\n",
        "$$\n",
        "y_i [ \\textbf{w}^T \\textbf{x}_i + b ] \\ge 1 - \\xi_i (i = 1, \\cdots, n)\n",
        "$$\n",
        "\n",
        "最適化問題の式は、\n",
        "\n",
        "$$\n",
        "\\min_{\\textbf{w}, b, \\xi}\n",
        "\\begin{bmatrix}\n",
        "\\frac{1}{2}\n",
        "\\Vert \\textbf{w} \\Vert ^2\n",
        "+\n",
        "C\n",
        "\\sum_i^n\n",
        "\\xi_i\n",
        "\\end{bmatrix}\n",
        "$$\n",
        "\n",
        "ただし、\n",
        "\n",
        "$$\n",
        "y_i \\begin{bmatrix}\n",
        "  \\textbf{w}^T \\textbf{x}_i + b\n",
        "\\end{bmatrix}\n",
        "\\geqq 1 - \\xi_i, \\xi_i \\geqq 0 (i = 1, \\cdots, n)\n",
        "$$\n",
        "\n",
        "係数 $ C $ は、正則化係数で、ハイパーパラメータ。\n",
        "$ C \\to \\infty $ でハードマージンとなる。\n"
      ]
    },
    {
      "cell_type": "markdown",
      "metadata": {
        "id": "PKveGsWZjAVC"
      },
      "source": [
        "### SVM における双対問題\n",
        "\n",
        "ここまでの最適化問題を、 SV 分類の主問題。\n",
        "\n",
        "変数を少なくし、分類境界の非線形化で有利となる、等価な双対問題の導出を行う。\n"
      ]
    },
    {
      "cell_type": "markdown",
      "metadata": {
        "id": "9DjGDp8tjC8L"
      },
      "source": [
        "### 双対問題の導出\n",
        "\n",
        "#### ラグランジュ関数と双対問題\n",
        "\n",
        "ラグランジュ関数を導入する。新たに\n",
        "$\n",
        "\\alpha = (\\alpha_1, \\cdots, \\alpha_n)^T,\n",
        "\\mu = (\\mu_1, \\cdots, \\mu_n)^T\n",
        "$\n",
        "の双対変数を導入した、ラグランジュ関数は以下の通り。\n",
        "\n",
        "$$\n",
        "L(\\textbf{w}, b, \\xi, \\alpha, \\mu)\n",
        "=\n",
        "\\frac{1}{2} \\Vert \\textbf{w} \\Vert^2\n",
        "+\n",
        "C\n",
        "\\sum_{i = 1}^n\n",
        "\\xi_i\n",
        "-\n",
        "\\sum_{i = 1}^n\n",
        "\\alpha_i\n",
        "[\n",
        "  y_i\n",
        "  \\begin{bmatrix}\n",
        "    \\textbf{w}^T \\textbf{x}_i + b\n",
        "  \\end{bmatrix}\n",
        "  - 1 + \\xi_i\n",
        "]\n",
        "-\n",
        "\\sum_{i = 1}^n\n",
        "\\mu_i \\xi_i\n",
        "$$\n",
        "\n",
        "双対問題は、ラグランジュ関数の最適化問題。\n",
        "\n",
        "$$\n",
        "\\max_{\\alpha, \\mu}\n",
        "\\min_{\\textbf{w}, b, \\xi} L(\\textbf{w}, b, \\xi, \\alpha, \\mu)\n",
        "$$\n"
      ]
    },
    {
      "cell_type": "markdown",
      "metadata": {
        "id": "8Ho7Nns5ncY5"
      },
      "source": [
        "#### 最大化問題の対象となる式\n",
        "\n",
        "双対問題である\n",
        "$ L(\\textbf{w}, b, \\xi, \\alpha, \\mu) $\n",
        "の最適解\n",
        "$ (\\textbf{w}^{*}, b^{*}, \\xi^{*}) $\n",
        "を使って展開し、\n",
        "$ \\alpha $ のみの関数にすることができる。\n",
        "\n",
        "$$\n",
        "\\max_{\\alpha, \\mu}\n",
        "\\min_{\\textbf{w}, b, \\xi} L(\\textbf{w}, b, \\xi, \\alpha, \\mu)\n",
        "=\n",
        "\\max_{\\alpha, \\mu}\n",
        "L(\\textbf{w}^{*}, b^{*}, \\xi^{*}, \\alpha, \\mu) \\\\\n",
        "=\n",
        "\\max_{\\alpha}\n",
        "\\begin{bmatrix}\n",
        "-\\frac{1}{2}\n",
        "\\sum_{i = 1}^n\n",
        "\\sum_{j = 1}^n\n",
        "\\alpha_i \\alpha_j\n",
        "y_i y_j\n",
        "\\textbf{x}_i^T \\textbf{x}_j\n",
        "+\n",
        "\\sum_{i = 1}^n\n",
        "\\alpha_i\n",
        "\\end{bmatrix}\n",
        "$$\n",
        "\n",
        "ただし、\n",
        "\n",
        "$$\n",
        "\\sum_{i = 1}^n\n",
        "\\alpha_i y_i = 0, 0 \\leqq \\alpha_i \\leqq C\n",
        "(i = 1, \\cdots, n)\n",
        "$$\n"
      ]
    },
    {
      "cell_type": "markdown",
      "metadata": {
        "id": "tF5FpArojGre"
      },
      "source": [
        "### 主問題と双対問題の関係\n",
        "\n",
        "SV 分類での、主問題と双対問題の関数は、他の最適化問題が弱双対性であることに対して、強双対性であり、目的関数値が最適解に一致する。よって、双対問題の最適解で SV 分類を行うことができる。\n"
      ]
    },
    {
      "cell_type": "markdown",
      "metadata": {
        "id": "h45CKfBVjIv2"
      },
      "source": [
        "### カーネルを用いた非線形分離への拡張\n"
      ]
    },
    {
      "cell_type": "markdown",
      "metadata": {
        "id": "1f7q3HG3Ows1"
      },
      "source": [
        "#### 高次元への写像と目的関数\n",
        "\n",
        "$ n $ 次元から、 $ r $ 次元への変換を行う。高次元データへ写像する関数を $ \\phi(\\textbf{x}) $ とする。\n",
        "\n",
        "$$\n",
        "\\phi(\\textbf{x})\n",
        "=\n",
        "\\begin{pmatrix}\n",
        "\\phi_1(x) \\\\\n",
        "\\vdots \\\\\n",
        "\\phi_r(x) \\\\\n",
        "\\end{pmatrix}\n",
        "$$\n",
        "\n",
        "目的関数は、以下となる。\n",
        "\n",
        "$$\n",
        "\\max_{\\alpha}\n",
        "\\begin{bmatrix}\n",
        "-\\frac{1}{2}\n",
        "\\sum_{i = 1}^n\n",
        "\\sum_{j = 1}^n\n",
        "\\alpha_i \\alpha_j\n",
        "y_i y_j\n",
        "\\phi(x_i)^T \\phi(x_j)\n",
        "+\n",
        "\\sum_{i = 1}^n\n",
        "\\alpha_i\n",
        "\\end{bmatrix}\n",
        "$$\n"
      ]
    },
    {
      "cell_type": "markdown",
      "metadata": {
        "id": "g0au_pBIPXU-"
      },
      "source": [
        "#### カーネル関数\n",
        "\n",
        "$ \\phi(x_i)^T \\phi(x_j) $ の内積計算量が膨大となるため、カーネル関数を使って簡略化する。\n",
        "\n",
        "- カーネル関数<br>\n",
        "$$\n",
        "K(x_i, x_j) = \\phi(x_i)^T \\phi(x_j)\n",
        "$$\n",
        "\n",
        "双対問題は以下の式となる。\n",
        "\n",
        "$$\n",
        "\\begin{equation}\n",
        "\\begin{cases}\n",
        "\\max_{\\alpha}\n",
        "\\begin{bmatrix}\n",
        "-\\frac{1}{2}\n",
        "\\sum_{i = 1}^n\n",
        "\\sum_{j = 1}^n\n",
        "\\alpha_i \\alpha_j\n",
        "y_i y_j\n",
        "K(x_i, x_j)\n",
        "+\n",
        "\\sum_{i = 1}^n\n",
        "\\alpha_i\n",
        "\\end{bmatrix}\n",
        "\\\\\n",
        "ただし、\n",
        "\\sum_{i = 1}^n\n",
        "\\alpha_i y_i = 0,\n",
        "0 \\leqq \\alpha_i\n",
        "(i = 1, \\cdots, n)\n",
        "\\end{cases}\n",
        "\\end{equation}\n",
        "$$\n",
        "\n",
        "カーネル関数には、例えば、ガウスカーネル ( RBF カーネル ) がある。\n",
        "\n",
        "- ガウスカーネル<br>\n",
        "$$\n",
        "K(x_i, x_j) = exp(-\\gamma \\Vert x_i - x_j \\Vert^2)\n",
        "$$\n"
      ]
    },
    {
      "cell_type": "markdown",
      "metadata": {
        "id": "iRsH3xoqdErY"
      },
      "source": [
        "## 1.2. 実装演習\n"
      ]
    },
    {
      "cell_type": "markdown",
      "metadata": {
        "id": "QaUjHtGQdK57"
      },
      "source": [
        "### np_svm.ipynb\n"
      ]
    },
    {
      "cell_type": "markdown",
      "metadata": {
        "id": "zukz8W6Zd0qm"
      },
      "source": [
        "#### キャプチャ\n",
        "\n",
        "自身の環境において、最終コードセル[19]までの実行を確認した。\n"
      ]
    },
    {
      "cell_type": "markdown",
      "metadata": {
        "id": "rwHBebUlSXCP"
      },
      "source": [
        "![capture-np_svm.ipynb-cell-19.png](data:image/png;base64,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)"
      ]
    },
    {
      "cell_type": "markdown",
      "metadata": {
        "id": "MlPQGpLAgsSS"
      },
      "source": [
        "#### 内容\n",
        "\n",
        "実装演習の際、調べた内容についてのノートを記録する。\n"
      ]
    },
    {
      "cell_type": "markdown",
      "metadata": {
        "id": "BODGZGShjPoO"
      },
      "source": [
        "##### 線形分離可能: Lagrange multiplier\n",
        "\n",
        "コードセル[4] の `np.where` の操作について、確認した。\n",
        "\n",
        "- https://numpy.org/doc/stable/reference/generated/numpy.where.html<br>\n",
        "> Return elements chosen from x or y depending on condition.\n"
      ]
    },
    {
      "cell_type": "markdown",
      "metadata": {
        "id": "Qgt3CXAATghe"
      },
      "source": [
        "以下コードにより、 `np.outer` の操作を確認した。"
      ]
    },
    {
      "cell_type": "code",
      "metadata": {
        "id": "Jnh0bIVbT_kO"
      },
      "source": [
        "%matplotlib inline\n",
        "import numpy as np\n",
        "import matplotlib.pyplot as plt"
      ],
      "execution_count": null,
      "outputs": []
    },
    {
      "cell_type": "code",
      "metadata": {
        "colab": {
          "base_uri": "https://localhost:8080/"
        },
        "id": "ExSSphmcX_Uq",
        "outputId": "374e9688-563b-4496-a142-db4eb47f6323"
      },
      "source": [
        "# size = 50\n",
        "size = 4\n",
        "x0 = np.random.normal(size=size).reshape(-1, 2) - 2.\n",
        "x1 = np.random.normal(size=size).reshape(-1, 2) + 2.\n",
        "X_train = np.concatenate([x0, x1])\n",
        "print(\"X_train.shape={}\".format(X_train.shape))\n",
        "print(\"X_train={}\".format(X_train))\n"
      ],
      "execution_count": null,
      "outputs": [
        {
          "output_type": "stream",
          "name": "stdout",
          "text": [
            "X_train.shape=(4, 2)\n",
            "X_train=[[-0.99176322 -2.65455206]\n",
            " [ 0.06850194 -2.01371147]\n",
            " [ 1.716548    2.01278454]\n",
            " [ 2.1450717   2.60936164]]\n"
          ]
        }
      ]
    },
    {
      "cell_type": "code",
      "metadata": {
        "colab": {
          "base_uri": "https://localhost:8080/"
        },
        "id": "mx6NgK4QYKmR",
        "outputId": "451b6af1-ae15-4696-fccd-b88071884d03"
      },
      "source": [
        "print(\"X_train.T.shape={}\".format(X_train.T.shape))\n",
        "print(\"X_train.T={}\".format(X_train.T))\n"
      ],
      "execution_count": null,
      "outputs": [
        {
          "output_type": "stream",
          "name": "stdout",
          "text": [
            "X_train.T.shape=(2, 4)\n",
            "X_train.T=[[-0.99176322  0.06850194  1.716548    2.1450717 ]\n",
            " [-2.65455206 -2.01371147  2.01278454  2.60936164]]\n"
          ]
        }
      ]
    },
    {
      "cell_type": "code",
      "metadata": {
        "colab": {
          "base_uri": "https://localhost:8080/"
        },
        "id": "wUFJgTXFZjqy",
        "outputId": "cb6a4439-8bad-4919-d1e0-6a7107fe4ccc"
      },
      "source": [
        "K = X_train.dot(X_train.T)\n",
        "K"
      ],
      "execution_count": null,
      "outputs": [
        {
          "output_type": "execute_result",
          "data": {
            "text/plain": [
              "array([[ 8.03024095,  5.27756421, -7.04545054, -9.05408954],\n",
              "       [ 5.27756421,  4.05972638, -3.93558044, -5.10755986],\n",
              "       [-7.04545054, -3.93558044,  6.99783866,  8.93420132],\n",
              "       [-9.05408954, -5.10755986,  8.93420132, 11.41010077]])"
            ]
          },
          "metadata": {},
          "execution_count": 17
        }
      ]
    },
    {
      "cell_type": "code",
      "metadata": {
        "colab": {
          "base_uri": "https://localhost:8080/"
        },
        "id": "yWuKsmLhaGiC",
        "outputId": "bd94a140-5220-440b-bde5-f42bcfc78174"
      },
      "source": [
        "xy = np.array([[1, 2], [3, 4], [5, 6]])\n",
        "xy"
      ],
      "execution_count": null,
      "outputs": [
        {
          "output_type": "execute_result",
          "data": {
            "text/plain": [
              "array([[1, 2],\n",
              "       [3, 4],\n",
              "       [5, 6]])"
            ]
          },
          "metadata": {},
          "execution_count": 18
        }
      ]
    },
    {
      "cell_type": "code",
      "metadata": {
        "colab": {
          "base_uri": "https://localhost:8080/"
        },
        "id": "VDJGF-lna0li",
        "outputId": "800ee3de-bde7-4427-c135-278dc905072c"
      },
      "source": [
        "xy.T"
      ],
      "execution_count": null,
      "outputs": [
        {
          "output_type": "execute_result",
          "data": {
            "text/plain": [
              "array([[1, 3, 5],\n",
              "       [2, 4, 6]])"
            ]
          },
          "metadata": {},
          "execution_count": 19
        }
      ]
    },
    {
      "cell_type": "code",
      "metadata": {
        "colab": {
          "base_uri": "https://localhost:8080/"
        },
        "id": "Fh_YFCpja2Nz",
        "outputId": "cb1a5e78-d4d5-45f2-c225-37efe2e9623f"
      },
      "source": [
        "xy.dot(xy.T)"
      ],
      "execution_count": null,
      "outputs": [
        {
          "output_type": "execute_result",
          "data": {
            "text/plain": [
              "array([[ 5, 11, 17],\n",
              "       [11, 25, 39],\n",
              "       [17, 39, 61]])"
            ]
          },
          "metadata": {},
          "execution_count": 20
        }
      ]
    },
    {
      "cell_type": "code",
      "metadata": {
        "colab": {
          "base_uri": "https://localhost:8080/"
        },
        "id": "zUdlBnlsY2i6",
        "outputId": "1619f334-6e4f-4684-e09e-b53ea5337b4e"
      },
      "source": [
        "# `H = np.outer(t, t) * K`?\n",
        "ys_train = np.concatenate([np.zeros(int(size/2)), np.ones(int(size/2))]).astype(np.int)\n",
        "t = np.where(ys_train == 1.0, 1.0, -1.0)\n",
        "t"
      ],
      "execution_count": null,
      "outputs": [
        {
          "output_type": "execute_result",
          "data": {
            "text/plain": [
              "array([-1., -1.,  1.,  1.])"
            ]
          },
          "metadata": {},
          "execution_count": 21
        }
      ]
    },
    {
      "cell_type": "code",
      "metadata": {
        "colab": {
          "base_uri": "https://localhost:8080/"
        },
        "id": "NQVsIhyrcGQ7",
        "outputId": "bce77695-b599-4e2b-dff9-6e7bd8fc676e"
      },
      "source": [
        "np.outer(t, t)"
      ],
      "execution_count": null,
      "outputs": [
        {
          "output_type": "execute_result",
          "data": {
            "text/plain": [
              "array([[ 1.,  1., -1., -1.],\n",
              "       [ 1.,  1., -1., -1.],\n",
              "       [-1., -1.,  1.,  1.],\n",
              "       [-1., -1.,  1.,  1.]])"
            ]
          },
          "metadata": {},
          "execution_count": 22
        }
      ]
    },
    {
      "cell_type": "code",
      "metadata": {
        "colab": {
          "base_uri": "https://localhost:8080/"
        },
        "id": "TnnK78xec0xC",
        "outputId": "dbb1bf90-78a1-420b-8c1e-2e4b1da407e7"
      },
      "source": [
        "np.outer(t, t) * K"
      ],
      "execution_count": null,
      "outputs": [
        {
          "output_type": "execute_result",
          "data": {
            "text/plain": [
              "array([[ 8.03024095,  5.27756421,  7.04545054,  9.05408954],\n",
              "       [ 5.27756421,  4.05972638,  3.93558044,  5.10755986],\n",
              "       [ 7.04545054,  3.93558044,  6.99783866,  8.93420132],\n",
              "       [ 9.05408954,  5.10755986,  8.93420132, 11.41010077]])"
            ]
          },
          "metadata": {},
          "execution_count": 23
        }
      ]
    },
    {
      "cell_type": "code",
      "metadata": {
        "colab": {
          "base_uri": "https://localhost:8080/"
        },
        "id": "wZFvXixEgPgC",
        "outputId": "afad2e2f-5765-4937-f51f-1dde3c6951d1"
      },
      "source": [
        "# `index = a > 1e-6`?\n",
        "np.outer(t, t) > 0"
      ],
      "execution_count": null,
      "outputs": [
        {
          "output_type": "execute_result",
          "data": {
            "text/plain": [
              "array([[ True,  True, False, False],\n",
              "       [ True,  True, False, False],\n",
              "       [False, False,  True,  True],\n",
              "       [False, False,  True,  True]])"
            ]
          },
          "metadata": {},
          "execution_count": 24
        }
      ]
    },
    {
      "cell_type": "code",
      "metadata": {
        "colab": {
          "base_uri": "https://localhost:8080/"
        },
        "id": "A8_Jlb0ugy1r",
        "outputId": "74d7e531-004b-44e1-ac81-58d2411bf8ac"
      },
      "source": [
        "np.outer(t, t)[np.outer(t, t) > 0]"
      ],
      "execution_count": null,
      "outputs": [
        {
          "output_type": "execute_result",
          "data": {
            "text/plain": [
              "array([1., 1., 1., 1., 1., 1., 1., 1.])"
            ]
          },
          "metadata": {},
          "execution_count": 25
        }
      ]
    },
    {
      "cell_type": "markdown",
      "metadata": {
        "id": "yf6fgTgOUQYf"
      },
      "source": [
        "コードセル[5] において、サポートベクトルのみを抽出していることを確認した。\n"
      ]
    },
    {
      "cell_type": "markdown",
      "metadata": {
        "id": "xCflbYDPUkYa"
      },
      "source": [
        "コードセル[7] の以下のグラフの線 (pink) については、意味を理解することができなかった。\n"
      ]
    },
    {
      "cell_type": "code",
      "metadata": {
        "id": "levIHR59Uxyx",
        "colab": {
          "base_uri": "https://localhost:8080/",
          "height": 283
        },
        "outputId": "b2b4f31e-4f76-41a8-968d-788b4db5bec8"
      },
      "source": [
        "# `plt.quiver(0, 0, 0.1, 0.35, width=0.01, scale=1, color='pink')`?\n",
        "plt.quiver(0, 0, 0.1, 0.35, width=0.01, scale=1, color='pink')\n"
      ],
      "execution_count": null,
      "outputs": [
        {
          "output_type": "execute_result",
          "data": {
            "text/plain": [
              "<matplotlib.quiver.Quiver at 0x7f1c2e96fe50>"
            ]
          },
          "metadata": {},
          "execution_count": 26
        },
        {
          "output_type": "display_data",
          "data": {
            "image/png": "[encoded data removed]",
            "text/plain": [
              "<Figure size 432x288 with 1 Axes>"
            ]
          },
          "metadata": {
            "needs_background": "light"
          }
        }
      ]
    },
    {
      "cell_type": "markdown",
      "metadata": {
        "id": "lN1YoQzkjTlR"
      },
      "source": [
        "##### 線形分離不可能: RBF kernel ( gaussian kernel )\n"
      ]
    },
    {
      "cell_type": "markdown",
      "metadata": {
        "id": "T-hgIg-DbCt0"
      },
      "source": [
        "コードセル[18]の `rbf(u, v)` の、 RBF の式を確認した。\n"
      ]
    },
    {
      "cell_type": "markdown",
      "metadata": {
        "id": "Y6BojPuIELzj"
      },
      "source": [
        "$$\n",
        "\\phi_{j}(x) = \\mathrm{e} \\{ \\frac{(x - \\mu_i)^2}{2h_j} \\}\n",
        "=\n",
        "\\phi_{j}(x) = \\mathrm{e} \\{ \\frac{(x - \\mu_i)^2}{\\sigma^2} \\}\n",
        "$$\n"
      ]
    },
    {
      "cell_type": "markdown",
      "metadata": {
        "id": "mcJ8OFXw2NRs"
      },
      "source": [
        "\"予測\" の `temp2' の部分が以下であることを確認した。"
      ]
    },
    {
      "cell_type": "markdown",
      "metadata": {
        "id": "w2DqZTTS7UQY"
      },
      "source": [
        "ここでの、 $ K, \\boldsymbol{a}, \\boldsymbol{t} $ は、 `index` である support vectors の要素のみを含むものとする。\n",
        "\n",
        "$$\n",
        "term2 = K ( \\boldsymbol{a} \\times \\boldsymbol{t} )\n",
        "$$\n",
        "\n",
        "$ K $ は、<br>\n",
        "`rbf()` を、 $ k(\\boldsymbol{x}_{i}, \\boldsymbol{x}_{j}) $ とすると、\n",
        "\n",
        "$$\n",
        "\\begin{pmatrix}\n",
        "k(\\boldsymbol{x}_{1}, \\boldsymbol{x}_{1}) & \\dots & k(\\boldsymbol{x}_{1}, \\boldsymbol{x}_{n}) \\\\\n",
        "\\cdots \\\\\n",
        "k(\\boldsymbol{n}_{1}, \\boldsymbol{x}_{1}) & \\dots & k(\\boldsymbol{x}_{n}, \\boldsymbol{x}_{n})\n",
        "\\end{pmatrix}\n",
        "$$\n",
        "\n",
        "この中で、 $ \\boldsymbol{a} $ が有効 ( `index = a > 1e-6`: 数式では $ a_{i} > 0 $ ) である成分。\n"
      ]
    },
    {
      "cell_type": "markdown",
      "metadata": {
        "id": "u9--NfX-jXsW"
      },
      "source": [
        "##### ソフトマージン SVM\n"
      ]
    },
    {
      "cell_type": "markdown",
      "metadata": {
        "id": "l7yqGsng3c64"
      },
      "source": [
        "学習において、 `a = np.clip(a, 0, C)` で、$ 0 \\leqq C \\leqq 1 $ の誤差の、許容度が与えられていることを確認した。\n"
      ]
    }
  ]
}